{
 "cells": [
  {
   "cell_type": "code",
   "execution_count": 1,
   "metadata": {},
   "outputs": [],
   "source": [
    "import os\n",
    "os.environ[\"OMP_NUM_THREADS\"] = \"32\"\n",
    "os.environ[\"TF_ENABLE_ONEDNN_OPTS\"] = \"0\""
   ]
  },
  {
   "cell_type": "code",
   "execution_count": null,
   "metadata": {},
   "outputs": [],
   "source": [
    "import tensorflow as tf\n",
    "from tensorflow.keras.models import Sequential\n",
    "from tensorflow.keras.layers import LSTM, Dense, PReLU, ConvLSTM1D, Dropout, Input\n",
    "from sklearn.metrics import mean_squared_error\n",
    "import matplotlib.pyplot as plt\n",
    "from sklearn.preprocessing import MinMaxScaler\n",
    "import numpy as np\n",
    "import yfinance as yf\n",
    "import pandas as pd\n",
    "import mlflow\n",
    "import mlflow.keras\n",
    "import matplotlib.pyplot as plt\n",
    "from sklearn.metrics import mean_absolute_error\n",
    "from sklearn.metrics import r2_score\n",
    "from sklearn.metrics import explained_variance_score\n",
    "from sklearn.metrics import mean_squared_log_error\n",
    "from sklearn.model_selection import TimeSeriesSplit, train_test_split\n",
    "import torch"
   ]
  },
  {
   "cell_type": "code",
   "execution_count": 3,
   "metadata": {},
   "outputs": [],
   "source": [
    "# Função para baixar os dados históricos\n",
    "def retrieve_stock_data(ticker, start_dt):\n",
    "    data = yf.download(ticker, start=start_dt)\n",
    "    data.drop(columns=['Volume','High', 'Low', 'Open'], inplace=True)\n",
    "    return data  # Apenas o preço de fechamento"
   ]
  },
  {
   "cell_type": "code",
   "execution_count": null,
   "metadata": {},
   "outputs": [],
   "source": [
    "# Exemplo para obter os dados históricos de PETR4\n",
    "ticker = 'PETR4.SA'\n",
    "data = retrieve_stock_data(ticker, '2018-01-01')\n",
    "data.head()"
   ]
  },
  {
   "cell_type": "code",
   "execution_count": null,
   "metadata": {},
   "outputs": [],
   "source": [
    "plt.plot(data)\n",
    "plt.show()"
   ]
  },
  {
   "cell_type": "code",
   "execution_count": 6,
   "metadata": {},
   "outputs": [],
   "source": [
    "# Função para criar os conjuntos de dados de treino e teste\n",
    "def format_timeseries_dataset(data, lookback=60):\n",
    "    X, y = [], []\n",
    "    for i in range(lookback, len(data)):\n",
    "        X.append(data[i-lookback:i, 0])  # Últimos N registros\n",
    "        y.append(data[i, 0])  # Próximo valor\n",
    "    X, y = np.array(X), np.array(y)\n",
    "    return X, y"
   ]
  },
  {
   "cell_type": "code",
   "execution_count": null,
   "metadata": {},
   "outputs": [],
   "source": [
    "ticker = 'PETR4.SA'\n",
    "data = retrieve_stock_data(ticker, '2018-01-01')\n",
    "\n",
    "scaler = MinMaxScaler(feature_range=(0, 1))\n",
    "scaled_data = scaler.fit_transform(data.values)\n",
    "\n",
    "train_data, test_data = train_test_split(scaled_data, test_size=0.3, random_state=1, shuffle=False)\n",
    "\n",
    "lookback = 10\n",
    "X_train, y_train = format_timeseries_dataset(train_data, lookback)\n",
    "X_test, y_test = format_timeseries_dataset(test_data, lookback)"
   ]
  },
  {
   "cell_type": "code",
   "execution_count": null,
   "metadata": {},
   "outputs": [],
   "source": [
    "print(len(train_data), len(test_data), len(test_data) / (len(train_data) + len(test_data)))"
   ]
  },
  {
   "cell_type": "code",
   "execution_count": null,
   "metadata": {},
   "outputs": [],
   "source": [
    "print(len(X_train), len(y_train))\n",
    "print(len(X_test), len(y_test))"
   ]
  },
  {
   "cell_type": "code",
   "execution_count": null,
   "metadata": {},
   "outputs": [],
   "source": [
    "def create_model(input: Input):\n",
    "    model = Sequential()\n",
    "    model.add(input)\n",
    "    model.add(LSTM(units=50, return_sequences=True))\n",
    "    model.add(Dense(units=1))\n",
    "    model.add(LSTM(units=50, return_sequences=False))\n",
    "    model.add(Dense(units=1))  \n",
    "\n",
    "    model.compile(optimizer='adam', loss='mean_squared_error')\n",
    "    return model\n",
    "\n",
    "model = create_model(Input((1, 1)))\n",
    "model_history = model.fit(X_train, y_train, epochs=300, batch_size=32, validation_data=(X_test, y_test))"
   ]
  },
  {
   "cell_type": "code",
   "execution_count": null,
   "metadata": {},
   "outputs": [],
   "source": [
    "plt.plot(model_history.history['loss'])\n",
    "plt.plot(model_history.history['val_loss'])\n",
    "plt.show()"
   ]
  },
  {
   "cell_type": "code",
   "execution_count": 12,
   "metadata": {},
   "outputs": [],
   "source": [
    "def plot_model_predictions(model, scaler, data_x, data_y, title):\n",
    "    predictions = model.predict(data_x)\n",
    "    inverted_data = scaler.inverse_transform(data_y.reshape(-1,1))\n",
    "    inverted_y_predictions = scaler.inverse_transform(predictions.reshape(-1,1))\n",
    "\n",
    "    plt.figure(figsize=(14, 7))\n",
    "    plt.plot(inverted_data , color='blue', label='Preço Real')\n",
    "    plt.plot(inverted_y_predictions, color='red', label='Preço Previsto')\n",
    "    plt.title(title)\n",
    "    plt.xlabel('Data')\n",
    "    plt.ylabel('Preço de Fechamento (R$)')\n",
    "    plt.legend()\n",
    "    plt.show()"
   ]
  },
  {
   "cell_type": "code",
   "execution_count": null,
   "metadata": {},
   "outputs": [],
   "source": [
    "plot_model_predictions(model, scaler, X_train, y_train, 'Previsão de Preços de Ações (Dados de Treino)')"
   ]
  },
  {
   "cell_type": "code",
   "execution_count": null,
   "metadata": {},
   "outputs": [],
   "source": [
    "plot_model_predictions(model, scaler, X_test, y_test, 'Previsão de Preços de Ações (Dados de Teste)')"
   ]
  },
  {
   "cell_type": "markdown",
   "metadata": {},
   "source": [
    "## Metrics"
   ]
  },
  {
   "cell_type": "code",
   "execution_count": null,
   "metadata": {},
   "outputs": [],
   "source": [
    "y_pred = model.predict(X_test)\n",
    "mse = mean_squared_error(y_test, y_pred)\n",
    "print(f'Mean Squared Error (MSE): {mse}')"
   ]
  },
  {
   "cell_type": "code",
   "execution_count": 16,
   "metadata": {},
   "outputs": [],
   "source": [
    "data_splits = 5\n",
    "tscv = TimeSeriesSplit(n_splits=data_splits)\n",
    "mses = []\n",
    "losses = []"
   ]
  },
  {
   "cell_type": "code",
   "execution_count": null,
   "metadata": {},
   "outputs": [],
   "source": [
    "for train_idx, test_idx in tscv.split(scaled_data):\n",
    "\n",
    "    train_data, test_data = scaled_data[train_idx], scaled_data[test_idx]\n",
    "    \n",
    "    X_train, y_train = format_timeseries_dataset(train_data, lookback)\n",
    "    X_test, y_test = format_timeseries_dataset(test_data, lookback)\n",
    "    \n",
    "    model = create_model(Input((1, 1)))\n",
    "    model.fit(X_train, y_train, epochs=300, batch_size=32, validation_data=(X_test, y_test))\n",
    "\n",
    "    y_pred = model.predict(X_test)\n",
    "    loss = model.evaluate(X_test, y_test)\n",
    "    losses.append(loss)\n",
    "    \n",
    "    mse = mean_squared_error(y_test, y_pred)\n",
    "    mses.append(mse)\n",
    "\n",
    "print(f'Mean Cross-Validation MSE: {np.mean(mses)}')"
   ]
  },
  {
   "cell_type": "code",
   "execution_count": null,
   "metadata": {},
   "outputs": [],
   "source": [
    "mses"
   ]
  },
  {
   "cell_type": "code",
   "execution_count": null,
   "metadata": {},
   "outputs": [],
   "source": [
    "losses"
   ]
  },
  {
   "cell_type": "code",
   "execution_count": null,
   "metadata": {},
   "outputs": [],
   "source": [
    "print(np.mean(mses), np.mean(losses))"
   ]
  }
 ],
 "metadata": {
  "kernelspec": {
   "display_name": ".venv",
   "language": "python",
   "name": "python3"
  },
  "language_info": {
   "codemirror_mode": {
    "name": "ipython",
    "version": 3
   },
   "file_extension": ".py",
   "mimetype": "text/x-python",
   "name": "python",
   "nbconvert_exporter": "python",
   "pygments_lexer": "ipython3",
   "version": "3.10.15"
  }
 },
 "nbformat": 4,
 "nbformat_minor": 2
}
